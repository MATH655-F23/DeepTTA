{
 "cells": [
  {
   "cell_type": "code",
   "execution_count": 1,
   "id": "7802dc04",
   "metadata": {},
   "outputs": [
    {
     "name": "stdout",
     "output_type": "stream",
     "text": [
      "Data processing completed. Results saved to 'SMILEinchi.csv'.\n"
     ]
    }
   ],
   "source": [
    "#!pip install pubchempy\n",
    "import pandas as pd\n",
    "import pubchempy as pcp\n",
    "\n",
    "# Import Python libraries for file operations, data manipulation, and chemical information retrieval.\n",
    "# PubChemPy is used to access chemical data from the PubChem database.\n",
    "\n",
    "pub_df = pd.read_csv('Drug_listTue_Aug10_2021.csv')\n",
    "\n",
    "# Read the CSV file into a Pandas DataFrame named 'pub_df'.\n",
    "\n",
    "# We clean the data by removing rows with missing values or with 'none' or 'several' in the 'PubCHEM' column\n",
    "pub_df = pub_df.dropna(subset=['PubCHEM'])\n",
    "pub_df = pub_df[(pub_df['PubCHEM'] != 'none')]\n",
    "\n",
    "# Initializing lists to store SMILES and InChI representations\n",
    "smile_list = []\n",
    "inchi_list = []\n",
    "\n",
    "# Create empty lists to store SMILES and InChI representations for each compound.\n",
    "\n",
    "# We extract the PubChem IDs from the 'PubCHEM' column.\n",
    "# Note that some drugs have multiple IDs separated by commas. \n",
    "# In this case, we use the first one.\n",
    "for idx, row in pub_df.iterrows():\n",
    "    pubids = row['PubCHEM'].split(',')\n",
    "    pubid = pubids[0]\n",
    "    \n",
    "    compound = pcp.Compound.from_cid(pubid)\n",
    "\n",
    "# We extract the SMILES and inchi representations of the compound using pubchempy\n",
    "    smile = compound.isomeric_smiles\n",
    "    inchi = compound.inchi\n",
    "\n",
    "\n",
    "# We append the SMILES and InChi to their respective lists\n",
    "    smile_list.append(smile)\n",
    "    inchi_list.append(inchi)\n",
    "\n",
    "# Adding the SMILES and inchi columns to our DataFrame \n",
    "pub_df['smiles'] = smile_list\n",
    "pub_df['inchi'] = inchi_list\n",
    "\n",
    "# We then save the updated DataFrame to a new CSV omitting the index column.\n",
    "output_csv_file = 'SMILEinchi.csv'\n",
    "pub_df.to_csv(output_csv_file, index=False)\n",
    "\n",
    "print(f\"Data processing completed. Results saved to '{output_csv_file}'.\")"
   ]
  },
  {
   "cell_type": "code",
   "execution_count": null,
   "id": "5f4e0d15",
   "metadata": {},
   "outputs": [],
   "source": []
  }
 ],
 "metadata": {
  "kernelspec": {
   "display_name": "Python 3 (ipykernel)",
   "language": "python",
   "name": "python3"
  },
  "language_info": {
   "codemirror_mode": {
    "name": "ipython",
    "version": 3
   },
   "file_extension": ".py",
   "mimetype": "text/x-python",
   "name": "python",
   "nbconvert_exporter": "python",
   "pygments_lexer": "ipython3",
   "version": "3.11.5"
  }
 },
 "nbformat": 4,
 "nbformat_minor": 5
}
