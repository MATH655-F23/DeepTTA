{
 "cells": [
  {
   "cell_type": "code",
   "execution_count": 1,
   "id": "961cc63c",
   "metadata": {},
   "outputs": [],
   "source": [
    "import deepchem as dc\n",
    "import torch\n",
    "from rdkit import Chem"
   ]
  },
  {
   "cell_type": "code",
   "execution_count": 2,
   "id": "dc5296f6",
   "metadata": {},
   "outputs": [],
   "source": [
    "!pip install torch\n",
    "!pip install tensorflow\n",
    "!pip install jax"
   ]
  },
  {
   "cell_type": "code",
   "execution_count": 3,
   "id": "956f1731",
   "metadata": {},
   "outputs": [],
   "source": [
    "import deepchem as dc\n",
    "import torch\n",
    "from rdkit import Chem"
   ]
  },
  {
   "cell_type": "code",
   "execution_count": 4,
   "id": "c8e9321b",
   "metadata": {},
   "outputs": [],
   "source": [
    "#from deepchem.feat import HuggingFaceFeaturizer\n",
    "from transformers import RobertaTokenizerFast\n",
    "hf_tokenizer = RobertaTokenizerFast.from_pretrained(\"seyonec/PubChem10M_SMILES_BPE_60k\")\n",
    "featurizer = dc.feat.HuggingFaceFeaturizer(tokenizer=hf_tokenizer)\n",
    "result = featurizer.featurize(['CC(=O)C'])"
   ]
  },
  {
   "cell_type": "code",
   "execution_count": 5,
   "id": "9f196d78",
   "metadata": {},
   "outputs": [],
   "source": [
    "!pip install transformers"
   ]
  },
  {
   "cell_type": "code",
   "execution_count": 6,
   "id": "15959b2c",
   "metadata": {},
   "outputs": [],
   "source": [
    "import deepchem as dc\n",
    "import torch\n",
    "from rdkit import Chem"
   ]
  },
  {
   "cell_type": "code",
   "execution_count": 7,
   "id": "24ef2a0d",
   "metadata": {},
   "outputs": [],
   "source": [
    "#from deepchem.feat import HuggingFaceFeaturizer\n",
    "from transformers import RobertaTokenizerFast\n",
    "hf_tokenizer = RobertaTokenizerFast.from_pretrained(\"seyonec/PubChem10M_SMILES_BPE_60k\")\n",
    "featurizer = dc.feat.HuggingFaceFeaturizer(tokenizer=hf_tokenizer)\n",
    "result = featurizer.featurize(['CC(=O)C'])"
   ]
  },
  {
   "cell_type": "code",
   "execution_count": 8,
   "id": "26d20702",
   "metadata": {},
   "outputs": [],
   "source": [
    "result"
   ]
  },
  {
   "cell_type": "code",
   "execution_count": 9,
   "id": "7c0d130d",
   "metadata": {},
   "outputs": [],
   "source": [
    "#from deepchem.feat import HuggingFaceFeaturizer\n",
    "from transformers import RobertaTokenizerFast\n",
    "hf_tokenizer = RobertaTokenizerFast.from_pretrained(\"seyonec/PubChem10M_SMILES_BPE_60k\")\n",
    "featurizer = dc.feat.HuggingFaceFeaturizer(tokenizer=hf_tokenizer)\n",
    "result = featurizer.featurize(['C1CC2=C(C=C(C=C2)C3=NC(=C(S3)CCCOC4=CC=C(C=C4)CN)C(=O)O)/C(=N/NC5=NC6=CC=CC=C6S5)/C1'])"
   ]
  },
  {
   "cell_type": "code",
   "execution_count": 10,
   "id": "0fb7a261",
   "metadata": {},
   "outputs": [],
   "source": [
    "#from deepchem.feat import HuggingFaceFeaturizer\n",
    "from transformers import RobertaTokenizerFast\n",
    "hf_tokenizer = RobertaTokenizerFast.from_pretrained(\"seyonec/PubChem10M_SMILES_BPE_60k\")\n",
    "featurizer = dc.feat.HuggingFaceFeaturizer(tokenizer=hf_tokenizer)\n",
    "result = featurizer.featurize(['C1CC2=C(C=C(C=C2)C3=NC(=C(S3)CCCOC4=CC=C(C=C4)CN)C(=O)O)/C(=N/NC5=NC6=CC=CC=C6S5)/C1'])"
   ]
  },
  {
   "cell_type": "code",
   "execution_count": 11,
   "id": "301a2269",
   "metadata": {},
   "outputs": [],
   "source": [
    "result"
   ]
  },
  {
   "cell_type": "code",
   "execution_count": 12,
   "id": "b35f5d40",
   "metadata": {},
   "outputs": [],
   "source": [
    "#from deepchem.feat import HuggingFaceFeaturizer\n",
    "from transformers import RobertaTokenizerFast\n",
    "hf_tokenizer = RobertaTokenizerFast.from_pretrained(\"seyonec/PubChem10M_SMILES_BPE_60k\")\n",
    "featurizer = dc.feat.HuggingFaceFeaturizer(tokenizer=hf_tokenizer)\n",
    "result = featurizer.featurize(['CC(=O)C','C1CC2=C(C=C(C=C2)C3=NC(=C(S3)CCCOC4=CC=C(C=C4)CN)C(=O)O)/C(=N/NC5=NC6=CC=CC=C6S5)/C1'])"
   ]
  },
  {
   "cell_type": "code",
   "execution_count": 13,
   "id": "d59fc47c",
   "metadata": {},
   "outputs": [],
   "source": [
    "result"
   ]
  },
  {
   "cell_type": "code",
   "execution_count": 14,
   "id": "f08c15fe",
   "metadata": {},
   "outputs": [],
   "source": [
    "import pandas as pd"
   ]
  },
  {
   "cell_type": "code",
   "execution_count": 15,
   "id": "e944d264",
   "metadata": {},
   "outputs": [],
   "source": [
    "drug_smiles=pd.read_csv"
   ]
  },
  {
   "cell_type": "code",
   "execution_count": 16,
   "id": "7a77463a",
   "metadata": {},
   "outputs": [],
   "source": [
    "drug_smiles=pd.read_csv(\"Data/SMILEinchi.csv\")"
   ]
  },
  {
   "cell_type": "code",
   "execution_count": 17,
   "id": "220542c0",
   "metadata": {},
   "outputs": [],
   "source": [
    "drug_smiles.columns.values.tolist()"
   ]
  },
  {
   "cell_type": "code",
   "execution_count": 18,
   "id": "a34ef811",
   "metadata": {},
   "outputs": [],
   "source": [
    "drug_smiles=pd.read_csv(\"Data/SMILEinchi.csv\",columns=['drug_id','smiles'])"
   ]
  },
  {
   "cell_type": "code",
   "execution_count": 19,
   "id": "a981fae0",
   "metadata": {},
   "outputs": [],
   "source": [
    "drug_smiles=pd.read_csv(\"Data/SMILEinchi.csv\",column=['drug_id','smiles'])"
   ]
  },
  {
   "cell_type": "code",
   "execution_count": 20,
   "id": "fbf2631f",
   "metadata": {},
   "outputs": [],
   "source": [
    "drug_smiles=pd.read_csv(\"Data/SMILEinchi.csv\",names=['drug_id','smiles'])"
   ]
  },
  {
   "cell_type": "code",
   "execution_count": 21,
   "id": "1e1f0402",
   "metadata": {},
   "outputs": [],
   "source": [
    "drug_smiles.columns.values.tolist()"
   ]
  },
  {
   "cell_type": "code",
   "execution_count": 22,
   "id": "8da57310",
   "metadata": {},
   "outputs": [],
   "source": [
    "drug_smiles.head(10)"
   ]
  },
  {
   "cell_type": "code",
   "execution_count": 23,
   "id": "d1b2b5e3",
   "metadata": {},
   "outputs": [],
   "source": [
    "drug_smiles=pd.read_csv(\"Data/SMILEinchi.csv\",names=['drug_id','smiles'])"
   ]
  },
  {
   "cell_type": "code",
   "execution_count": 24,
   "id": "d5afba99",
   "metadata": {},
   "outputs": [],
   "source": [
    "drug_smiles.columns.values.tolist()"
   ]
  },
  {
   "cell_type": "code",
   "execution_count": 25,
   "id": "7a1c6fae",
   "metadata": {},
   "outputs": [],
   "source": [
    "drug_smiles.head(10)"
   ]
  },
  {
   "cell_type": "code",
   "execution_count": 26,
   "id": "e4e03687",
   "metadata": {},
   "outputs": [],
   "source": [
    "drug_smiles=pd.read_csv(\"Data/SMILEinchi.csv\",usecols=['drug_id','smiles'])"
   ]
  },
  {
   "cell_type": "code",
   "execution_count": 27,
   "id": "c7ec9c97",
   "metadata": {},
   "outputs": [],
   "source": [
    "drug_smiles.columns.values.tolist()"
   ]
  },
  {
   "cell_type": "code",
   "execution_count": 28,
   "id": "77a2adfe",
   "metadata": {},
   "outputs": [],
   "source": [
    "drug_smiles.head(10)"
   ]
  },
  {
   "cell_type": "code",
   "execution_count": 29,
   "id": "96d0214c",
   "metadata": {},
   "outputs": [],
   "source": [
    "drug_smiles[1][0]"
   ]
  },
  {
   "cell_type": "code",
   "execution_count": 30,
   "id": "fbbbcc8e",
   "metadata": {},
   "outputs": [],
   "source": [
    "drug_smiles['smiles'][0]"
   ]
  },
  {
   "cell_type": "code",
   "execution_count": 31,
   "id": "52ff8120",
   "metadata": {},
   "outputs": [],
   "source": [
    "drug_smiles['smiles'].values.tolist()"
   ]
  },
  {
   "cell_type": "code",
   "execution_count": 32,
   "id": "632d88a3",
   "metadata": {},
   "outputs": [],
   "source": [
    "%notebook code_logs/Encoder_logs.ipynb"
   ]
  },
  {
   "cell_type": "code",
   "execution_count": 33,
   "id": "929f993c",
   "metadata": {},
   "outputs": [],
   "source": [
    "!pip install nbformat"
   ]
  },
  {
   "cell_type": "code",
   "execution_count": 34,
   "id": "c43c7224",
   "metadata": {},
   "outputs": [],
   "source": [
    "%notebook code_logs/Encoder_logs.ipynb"
   ]
  },
  {
   "cell_type": "code",
   "execution_count": 35,
   "id": "2386c112",
   "metadata": {},
   "outputs": [],
   "source": [
    "smiles_list=drug_smiles['smiles'].values.tolist()"
   ]
  },
  {
   "cell_type": "code",
   "execution_count": 36,
   "id": "0a9b16ed",
   "metadata": {},
   "outputs": [],
   "source": [
    "smiles_list=drug_smiles['smiles'].values.tolist()\n",
    "print(len(smiles_list))"
   ]
  },
  {
   "cell_type": "code",
   "execution_count": 37,
   "id": "6295ef48",
   "metadata": {},
   "outputs": [],
   "source": [
    "#from deepchem.feat import HuggingFaceFeaturizer\n",
    "from transformers import RobertaTokenizerFast\n",
    "hf_tokenizer = RobertaTokenizerFast.from_pretrained(\"seyonec/PubChem10M_SMILES_BPE_60k\")\n",
    "featurizer = dc.feat.HuggingFaceFeaturizer(tokenizer=hf_tokenizer)\n",
    "result = featurizer.featurize(smiles_list)"
   ]
  },
  {
   "cell_type": "code",
   "execution_count": 38,
   "id": "5148b646",
   "metadata": {},
   "outputs": [],
   "source": [
    "result"
   ]
  },
  {
   "cell_type": "code",
   "execution_count": 39,
   "id": "ae575d30",
   "metadata": {},
   "outputs": [],
   "source": [
    "import pandas as pd\n",
    "import numpy as np"
   ]
  },
  {
   "cell_type": "code",
   "execution_count": 40,
   "id": "d82f390f",
   "metadata": {},
   "outputs": [],
   "source": [
    "smiles = [\"C\", \"CC\"]\n",
    "X = np.array(smiles)\n",
    "y = np.array([1, 0])\n",
    "dataset = dc.data.NumpyDataset(X, y)\n",
    "trans = dc.trans.FeaturizationTransformer(dataset, dc.feat.CircularFingerprint())\n",
    "dataset = trans.transform(dataset)"
   ]
  },
  {
   "cell_type": "code",
   "execution_count": 41,
   "id": "781bb9d1",
   "metadata": {},
   "outputs": [],
   "source": [
    "print(dataset)"
   ]
  },
  {
   "cell_type": "code",
   "execution_count": 42,
   "id": "af369dd5",
   "metadata": {},
   "outputs": [],
   "source": [
    "print(dataset.X)"
   ]
  },
  {
   "cell_type": "code",
   "execution_count": 43,
   "id": "98f09f54",
   "metadata": {},
   "outputs": [],
   "source": [
    "smiles = [\"C\", \"CC\"]\n",
    "X = np.array(smiles)\n",
    "y = np.array([1, 0])\n",
    "dataset = dc.data.NumpyDataset(X, y)\n",
    "trans = dc.trans.FeaturizationTransformer(dataset, dc.feat.HuggingFaceFeaturizer())\n",
    "dataset = trans.transform(dataset)"
   ]
  },
  {
   "cell_type": "code",
   "execution_count": 44,
   "id": "5b7694a1",
   "metadata": {},
   "outputs": [],
   "source": [
    "smiles = [\"C\", \"CC\"]\n",
    "X = np.array(smiles)\n",
    "y = np.array([1, 0])\n",
    "dataset = dc.data.NumpyDataset(X, y)\n",
    "trans = dc.trans.FeaturizationTransformer(dataset, dc.feat.HuggingFaceFeaturizer(),hf_tokenizer)\n",
    "dataset = trans.transform(dataset)"
   ]
  },
  {
   "cell_type": "code",
   "execution_count": 45,
   "id": "679d98cc",
   "metadata": {},
   "outputs": [],
   "source": [
    "smiles = [\"C\", \"CC\"]\n",
    "X = np.array(smiles)\n",
    "y = np.array([1, 0])\n",
    "dataset = dc.data.NumpyDataset(X, y)\n",
    "trans = dc.trans.FeaturizationTransformer(dataset, dc.feat.HuggingFaceFeaturizer(hf_tokenizer))\n",
    "dataset = trans.transform(dataset)"
   ]
  },
  {
   "cell_type": "code",
   "execution_count": 46,
   "id": "123c0a88",
   "metadata": {},
   "outputs": [],
   "source": [
    "print(dataset.X)"
   ]
  },
  {
   "cell_type": "code",
   "execution_count": 47,
   "id": "c0832889",
   "metadata": {},
   "outputs": [],
   "source": [
    "smiles = drug_smiles['smiles'].values.tolist()\n",
    "X = np.array(smiles)\n",
    "dataset = dc.data.NumpyDataset(X)\n",
    "trans = dc.trans.FeaturizationTransformer(dataset, dc.feat.HuggingFaceFeaturizer(hf_tokenizer))\n",
    "dataset = trans.transform(dataset)"
   ]
  },
  {
   "cell_type": "code",
   "execution_count": 48,
   "id": "276c41b1",
   "metadata": {},
   "outputs": [],
   "source": [
    "print(dataset.X)"
   ]
  },
  {
   "cell_type": "code",
   "execution_count": 49,
   "id": "a7e2b52e",
   "metadata": {},
   "outputs": [],
   "source": [
    "n_samples = 10\n",
    "n_features = 3\n",
    "n_tasks = 1\n",
    "ids = np.arange(n_samples)\n",
    "X = np.random.rand(n_samples, n_features)\n",
    "y = np.random.rand(n_samples, n_tasks)\n",
    "w = np.ones((n_samples, n_tasks))\n",
    "dataset = dc.data.NumpyDataset(X, y, w, ids)\n",
    "transformer = dc.trans.NormalizationTransformer(transform_y=True, dataset=dataset)\n",
    "dataset = transformer.transform(dataset)"
   ]
  },
  {
   "cell_type": "code",
   "execution_count": 50,
   "id": "344e831a",
   "metadata": {},
   "outputs": [],
   "source": [
    "print(dataset)"
   ]
  },
  {
   "cell_type": "code",
   "execution_count": 51,
   "id": "3230d4bc",
   "metadata": {},
   "outputs": [],
   "source": [
    "LONGEST_STRING=max([len(smiles) for smiles in smiles_list])"
   ]
  },
  {
   "cell_type": "code",
   "execution_count": 52,
   "id": "29564bc9",
   "metadata": {},
   "outputs": [],
   "source": [
    "LONGEST_STRING"
   ]
  },
  {
   "cell_type": "code",
   "execution_count": 53,
   "id": "3a31e271",
   "metadata": {},
   "outputs": [],
   "source": [
    "out=dc.SmilesTokenizer.add_padding_tokens(dataset.X,LONGEST_STRING)"
   ]
  },
  {
   "cell_type": "code",
   "execution_count": 54,
   "id": "ba427801",
   "metadata": {},
   "outputs": [],
   "source": [
    "from deepchem.feat.smiles_tokenizer import SmilesTokenizer\n",
    "out=SmilesTokenizer.add_padding_tokens(dataset.X,LONGEST_STRING)"
   ]
  },
  {
   "cell_type": "code",
   "execution_count": 55,
   "id": "9a09aa33",
   "metadata": {},
   "outputs": [],
   "source": [
    "from deepchem.feat.smiles_tokenizer import SmilesTokenizer\n",
    "out=SmilesTokenizer.add_padding_tokens(dataset.X,LONGEST_STRING,True)"
   ]
  },
  {
   "cell_type": "code",
   "execution_count": 56,
   "id": "45b7bbd4",
   "metadata": {},
   "outputs": [],
   "source": [
    "print(result)"
   ]
  },
  {
   "cell_type": "code",
   "execution_count": 57,
   "id": "929adef2",
   "metadata": {},
   "outputs": [],
   "source": [
    "#from deepchem.feat import HuggingFaceFeaturizer\n",
    "from transformers import RobertaTokenizerFast\n",
    "hf_tokenizer = RobertaTokenizerFast.from_pretrained(\"seyonec/PubChem10M_SMILES_BPE_60k\")\n",
    "featurizer = dc.feat.HuggingFaceFeaturizer(tokenizer=hf_tokenizer)\n",
    "result = featurizer.featurize(smiles_list,padding=\"max_length\", max_length=20)"
   ]
  },
  {
   "cell_type": "code",
   "execution_count": 58,
   "id": "4ac2e096",
   "metadata": {},
   "outputs": [],
   "source": [
    "import os\n",
    "from deepchem.feat.smiles_tokenizer import SmilesTokenizer\n",
    "current_dir = os.path.dirname(os.path.realpath(__file__))\n",
    "vocab_path = os.path.join(current_dir, 'tests/data', 'vocab.txt')\n",
    "tokenizer = SmilesTokenizer(vocab_path)\n",
    "print(tokenizer.encode(\"CC(=O)OC1=CC=CC=C1C(=O)O\"))"
   ]
  },
  {
   "cell_type": "code",
   "execution_count": 59,
   "id": "8c0cf567",
   "metadata": {},
   "outputs": [],
   "source": [
    "import os\n",
    "from deepchem.feat.smiles_tokenizer import SmilesTokenizer\n",
    "current_dir = os.path.dirname(os.path.realpath(__file__))\n",
    "vocab_path = os.path.join(current_dir, 'tests/data', 'vocab.txt')\n",
    "tokenizer = SmilesTokenizer(vocab_path)\n",
    "print(tokenizer.encode(\"CC(=O)OC1=CC=CC=C1C(=O)O\"))"
   ]
  },
  {
   "cell_type": "code",
   "execution_count": 60,
   "id": "dca63547",
   "metadata": {},
   "outputs": [],
   "source": [
    "print(current_dir)"
   ]
  },
  {
   "cell_type": "code",
   "execution_count": 61,
   "id": "be652753",
   "metadata": {},
   "outputs": [],
   "source": [
    "print(current_dir)"
   ]
  },
  {
   "cell_type": "code",
   "execution_count": 62,
   "id": "7fe8a380",
   "metadata": {},
   "outputs": [],
   "source": [
    "import os\n",
    "from deepchem.feat.smiles_tokenizer import SmilesTokenizer\n",
    "current_dir = os.path.dirname(os.path.realpath(__file__))"
   ]
  },
  {
   "cell_type": "code",
   "execution_count": 63,
   "id": "7a7e3feb",
   "metadata": {},
   "outputs": [],
   "source": [
    "import inspect\n",
    "src_file_path = inspect.getfile(lambda: None)"
   ]
  },
  {
   "cell_type": "code",
   "execution_count": 64,
   "id": "c6bce5fb",
   "metadata": {},
   "outputs": [],
   "source": [
    "src_file_path"
   ]
  },
  {
   "cell_type": "code",
   "execution_count": 65,
   "id": "2441be36",
   "metadata": {},
   "outputs": [],
   "source": [
    "import inspect\n",
    "src_file_path = os.getcwd()"
   ]
  },
  {
   "cell_type": "code",
   "execution_count": 66,
   "id": "113e0e29",
   "metadata": {},
   "outputs": [],
   "source": [
    "src_file_path"
   ]
  },
  {
   "cell_type": "code",
   "execution_count": 67,
   "id": "32caebac",
   "metadata": {},
   "outputs": [],
   "source": [
    "import os\n",
    "from deepchem.feat.smiles_tokenizer import SmilesTokenizer\n",
    "current_dir = os.path.dirname(os.path.realpath(os.getcwd()))\n",
    "vocab_path = os.path.join(current_dir, 'tests/data', 'vocab.txt')\n",
    "tokenizer = SmilesTokenizer(vocab_path)\n",
    "print(tokenizer.encode(\"CC(=O)OC1=CC=CC=C1C(=O)O\"))"
   ]
  },
  {
   "cell_type": "code",
   "execution_count": 68,
   "id": "a0558841",
   "metadata": {},
   "outputs": [],
   "source": [
    "print(os.getcwd())"
   ]
  },
  {
   "cell_type": "code",
   "execution_count": 69,
   "id": "a104f2c0",
   "metadata": {},
   "outputs": [],
   "source": [
    "import os\n",
    "from deepchem.feat.smiles_tokenizer import SmilesTokenizer\n",
    "\n",
    "current_dir = os.getcwd()\n",
    "vocab_path = os.path.join(current_dir, 'tests/data', 'vocab.txt')\n",
    "tokenizer = SmilesTokenizer(vocab_path)\n",
    "print(tokenizer.encode(\"CC(=O)OC1=CC=CC=C1C(=O)O\"))"
   ]
  },
  {
   "cell_type": "code",
   "execution_count": 70,
   "id": "96e5c4bd",
   "metadata": {},
   "outputs": [],
   "source": [
    "import os\n",
    "from deepchem.feat.smiles_tokenizer import SmilesTokenizer\n",
    "\n",
    "current_dir = os.getcwd()\n",
    "vocab_path = os.path.join(current_dir, 'tests/data', 'vocab.txt')\n",
    "tokenizer = SmilesTokenizer(vocab_path)\n",
    "l=tokenizer.encode(\"CC(=O)OC1=CC=CC=C1C(=O)O\")"
   ]
  },
  {
   "cell_type": "code",
   "execution_count": 71,
   "id": "166c791c",
   "metadata": {},
   "outputs": [],
   "source": [
    "list=[l]"
   ]
  },
  {
   "cell_type": "code",
   "execution_count": 72,
   "id": "17cfe9c1",
   "metadata": {},
   "outputs": [],
   "source": [
    "list"
   ]
  },
  {
   "cell_type": "code",
   "execution_count": 73,
   "id": "c0c7ea06",
   "metadata": {},
   "outputs": [],
   "source": [
    "SmilesTokenizer.add_padding_tokens(lists,100)"
   ]
  },
  {
   "cell_type": "code",
   "execution_count": 74,
   "id": "a07a67c4",
   "metadata": {},
   "outputs": [],
   "source": [
    "import os\n",
    "from deepchem.feat.smiles_tokenizer import SmilesTokenizer\n",
    "\n",
    "current_dir = os.getcwd()\n",
    "vocab_path = os.path.join(current_dir, 'tests/data', 'vocab.txt')\n",
    "tokenizer = SmilesTokenizer(vocab_path)\n",
    "l=tokenizer.encode(\"CC(=O)OC1=CC=CC=C1C(=O)O\")\n",
    "lists=[l]"
   ]
  },
  {
   "cell_type": "code",
   "execution_count": 75,
   "id": "de47461e",
   "metadata": {},
   "outputs": [],
   "source": [
    "l2=SmilesTokenizer.add_padding_tokens(lists,100)"
   ]
  },
  {
   "cell_type": "code",
   "execution_count": 76,
   "id": "14a418aa",
   "metadata": {},
   "outputs": [],
   "source": [
    "l2=SmilesTokenizer.add_padding_tokens(token_ids=lists,length=100)"
   ]
  },
  {
   "cell_type": "code",
   "execution_count": 77,
   "id": "4c3aecab",
   "metadata": {},
   "outputs": [],
   "source": [
    "l2=SmilesTokenizer.add_padding_tokens(token_ids=lists,length=100,right=True)"
   ]
  },
  {
   "cell_type": "code",
   "execution_count": 78,
   "id": "c14d4a0e",
   "metadata": {},
   "outputs": [],
   "source": [
    "l2=SmilesTokenizer.add_padding_tokens(lists,100,True)"
   ]
  },
  {
   "cell_type": "code",
   "execution_count": 79,
   "id": "bbdccac7",
   "metadata": {},
   "outputs": [],
   "source": [
    "import os\n",
    "from deepchem.feat.smiles_tokenizer import SmilesTokenizer\n",
    "\n",
    "current_dir = os.getcwd()\n",
    "vocab_path = os.path.join(current_dir, 'tests/data', 'vocab.txt')\n",
    "tokenizer = SmilesTokenizer(vocab_path,pad_token=\"[PAD]\")\n",
    "l=tokenizer.encode(\"CC(=O)OC1=CC=CC=C1C(=O)O\")\n",
    "lists=[l]"
   ]
  },
  {
   "cell_type": "code",
   "execution_count": 80,
   "id": "ed662447",
   "metadata": {},
   "outputs": [],
   "source": [
    "l2=SmilesTokenizer.add_padding_tokens(lists,100,True)"
   ]
  },
  {
   "cell_type": "code",
   "execution_count": 81,
   "id": "4d58dca2",
   "metadata": {},
   "outputs": [],
   "source": [
    "print(l)"
   ]
  },
  {
   "cell_type": "code",
   "execution_count": 82,
   "id": "43a457f8",
   "metadata": {},
   "outputs": [],
   "source": [
    "l2=SmilesTokenizer.add_padding_tokens(l,100,True)"
   ]
  },
  {
   "cell_type": "code",
   "execution_count": 83,
   "id": "143fb733",
   "metadata": {},
   "outputs": [],
   "source": [
    "#from deepchem.feat import HuggingFaceFeaturizer\n",
    "from transformers import RobertaTokenizerFast\n",
    "tokenizer = RobertaTokenizerFast.from_pretrained(\"seyonec/PubChem10M_SMILES_BPE_60k\")\n",
    "encoded_inputs = [tokenizer.encode(\n",
    "    smiles,\n",
    "    add_special_tokens=True,\n",
    "    truncation=True,\n",
    "    max_length=LONGEST_STRING,\n",
    "    padding=\"max_length\",\n",
    "    return_tensors=\"pt\"\n",
    ") for smiles in smiles_list]"
   ]
  },
  {
   "cell_type": "code",
   "execution_count": 84,
   "id": "503c6cc8",
   "metadata": {},
   "outputs": [],
   "source": [
    "encoded_inputs"
   ]
  },
  {
   "cell_type": "code",
   "execution_count": 85,
   "id": "d8c02fad",
   "metadata": {},
   "outputs": [],
   "source": [
    "#from deepchem.feat import HuggingFaceFeaturizer\n",
    "from transformers import RobertaTokenizerFast\n",
    "tokenizer = RobertaTokenizerFast.from_pretrained(\"seyonec/PubChem10M_SMILES_BPE_60k\")\n",
    "encoded_inputs = [tokenizer.encode(\n",
    "    smiles,\n",
    "    add_special_tokens=True,\n",
    "    truncation=True,\n",
    "    max_length=LONGEST_STRING,\n",
    "    padding=\"max_length\",\n",
    "    return_tensors=\"pt\"\n",
    ") for smiles in smiles_list]\n",
    "\n",
    "batch_input_ids = torch.cat(encoded_inputs, dim=0)"
   ]
  },
  {
   "cell_type": "code",
   "execution_count": 86,
   "id": "8a9f56ad",
   "metadata": {},
   "outputs": [],
   "source": [
    "#from deepchem.feat import HuggingFaceFeaturizer\n",
    "from transformers import RobertaTokenizerFast\n",
    "tokenizer = RobertaTokenizerFast.from_pretrained(\"seyonec/PubChem10M_SMILES_BPE_60k\")\n",
    "encoded_inputs = [tokenizer.encode(\n",
    "    smiles,\n",
    "    add_special_tokens=True,\n",
    "    truncation=True,\n",
    "    max_length=LONGEST_STRING,\n",
    "    padding=\"max_length\",\n",
    "    return_tensors=\"pt\",\n",
    "    return_attention_mask=True\n",
    ") for smiles in smiles_list]\n",
    "\n",
    "batch_input_ids = torch.cat(encoded_inputs, dim=0)"
   ]
  },
  {
   "cell_type": "code",
   "execution_count": 87,
   "id": "100c9105",
   "metadata": {},
   "outputs": [],
   "source": [
    "encoded_inputs"
   ]
  },
  {
   "cell_type": "code",
   "execution_count": 88,
   "id": "0f851ae9",
   "metadata": {},
   "outputs": [],
   "source": [
    "encoded_inputs.shape"
   ]
  },
  {
   "cell_type": "code",
   "execution_count": 89,
   "id": "bbccbc16",
   "metadata": {},
   "outputs": [],
   "source": [
    "encoded_inputs"
   ]
  },
  {
   "cell_type": "code",
   "execution_count": 90,
   "id": "3fc4e447",
   "metadata": {},
   "outputs": [],
   "source": [
    "encoded_inputs[1].shape"
   ]
  },
  {
   "cell_type": "code",
   "execution_count": 91,
   "id": "524f0241",
   "metadata": {},
   "outputs": [],
   "source": [
    "tokenizer.encode(\n",
    "    smiles_list[1],\n",
    "    add_special_tokens=True,\n",
    "    truncation=True,\n",
    "    max_length=LONGEST_STRING,\n",
    "    padding=\"max_length\",\n",
    "    return_tensors=\"pt\",\n",
    "    return_attention_mask=True\n",
    ")"
   ]
  },
  {
   "cell_type": "code",
   "execution_count": 92,
   "id": "e5e4f926",
   "metadata": {},
   "outputs": [],
   "source": [
    "z=tokenizer.encode(\n",
    "    smiles_list[1],\n",
    "    add_special_tokens=True,\n",
    "    truncation=True,\n",
    "    max_length=LONGEST_STRING,\n",
    "    padding=\"max_length\",\n",
    "    return_tensors=\"pt\",\n",
    "    return_attention_mask=True\n",
    ")\n",
    "print(z)"
   ]
  },
  {
   "cell_type": "code",
   "execution_count": 93,
   "id": "906ef155",
   "metadata": {},
   "outputs": [],
   "source": [
    "z[\"attention_mask\"]"
   ]
  },
  {
   "cell_type": "code",
   "execution_count": 94,
   "id": "7676d9d5",
   "metadata": {},
   "outputs": [],
   "source": [
    "batch_input_ids.shape"
   ]
  },
  {
   "cell_type": "code",
   "execution_count": 95,
   "id": "6fbcd297",
   "metadata": {},
   "outputs": [],
   "source": [
    "import transformers\n",
    "encoder_layer = nn.TransformerEncoderLayer(d_model=512, nhead=8)\n",
    "src = torch.rand(10, 32, 512)\n",
    "out = encoder_layer(src)"
   ]
  },
  {
   "cell_type": "code",
   "execution_count": 96,
   "id": "bb904823",
   "metadata": {},
   "outputs": [],
   "source": [
    "import transformers\n",
    "encoder_layer = torch.nn.TransformerEncoderLayer(d_model=512, nhead=8)\n",
    "src = torch.rand(10, 32, 512)\n",
    "out = encoder_layer(src)"
   ]
  },
  {
   "cell_type": "code",
   "execution_count": 97,
   "id": "2ffd8567",
   "metadata": {},
   "outputs": [],
   "source": [
    "print(out)"
   ]
  },
  {
   "cell_type": "code",
   "execution_count": 98,
   "id": "c241ab63",
   "metadata": {},
   "outputs": [],
   "source": [
    "print(src?)"
   ]
  },
  {
   "cell_type": "code",
   "execution_count": 99,
   "id": "1eb4a2d7",
   "metadata": {},
   "outputs": [],
   "source": [
    "print(src)"
   ]
  },
  {
   "cell_type": "code",
   "execution_count": 100,
   "id": "a3d225d2",
   "metadata": {},
   "outputs": [],
   "source": [
    "import transformers\n",
    "encoder_layer = torch.nn.TransformerEncoderLayer(d_model=512, nhead=8)"
   ]
  },
  {
   "cell_type": "code",
   "execution_count": 101,
   "id": "91490bfe",
   "metadata": {},
   "outputs": [],
   "source": [
    "import transformers\n",
    "encoder_layer = torch.nn.TransformerEncoderLayer(d_model=512, nhead=8)"
   ]
  },
  {
   "cell_type": "code",
   "execution_count": 102,
   "id": "bd069f36",
   "metadata": {},
   "outputs": [],
   "source": [
    "out=encoder_layer(batch_input_ids)"
   ]
  },
  {
   "cell_type": "code",
   "execution_count": 103,
   "id": "ea7dc95e",
   "metadata": {},
   "outputs": [],
   "source": [
    "import transformers\n",
    "encoder_layer = torch.nn.TransformerEncoderLayer(d_model=272, nhead=8)"
   ]
  },
  {
   "cell_type": "code",
   "execution_count": 104,
   "id": "77e0c8f2",
   "metadata": {},
   "outputs": [],
   "source": [
    "out=encoder_layer(batch_input_ids)"
   ]
  },
  {
   "cell_type": "code",
   "execution_count": 105,
   "id": "20d98dcf",
   "metadata": {},
   "outputs": [],
   "source": [
    "batch_input_ids.type"
   ]
  },
  {
   "cell_type": "code",
   "execution_count": 106,
   "id": "a6e165d7",
   "metadata": {},
   "outputs": [],
   "source": [
    "batch_input_ids.type()"
   ]
  },
  {
   "cell_type": "code",
   "execution_count": 107,
   "id": "f414d3dd",
   "metadata": {},
   "outputs": [],
   "source": [
    "tokenizer.encode_plus(\n",
    "    smiles_list[1],\n",
    "    add_special_tokens=True,\n",
    "    truncation=True,\n",
    "    max_length=LONGEST_STRING,\n",
    "    padding=\"max_length\",\n",
    "    return_tensors=\"pt\",\n",
    "    return_attention_mask=True\n",
    ")"
   ]
  },
  {
   "cell_type": "code",
   "execution_count": 108,
   "id": "74052a03",
   "metadata": {},
   "outputs": [],
   "source": [
    "#from deepchem.feat import HuggingFaceFeaturizer\n",
    "from transformers import RobertaTokenizerFast\n",
    "tokenizer = RobertaTokenizerFast.from_pretrained(\"seyonec/PubChem10M_SMILES_BPE_60k\")\n",
    "encoded_inputs = [tokenizer.encode_plus(\n",
    "    smiles,\n",
    "    add_special_tokens=True,\n",
    "    truncation=True,\n",
    "    max_length=LONGEST_STRING,\n",
    "    padding=\"max_length\",\n",
    "    return_tensors=\"pt\",\n",
    "    return_attention_mask=True\n",
    ") for smiles in smiles_list]\n",
    "input_ids = torch.cat([encoded_input[\"input_ids\"] for encoded_input in encoded_inputs], dim=0)\n",
    "attention_masks = torch.cat([encoded_input[\"attention_mask\"] for encoded_input in encoded_inputs], dim=0)"
   ]
  },
  {
   "cell_type": "code",
   "execution_count": 109,
   "id": "3fcfebc1",
   "metadata": {},
   "outputs": [],
   "source": [
    "input_ids.type()"
   ]
  },
  {
   "cell_type": "code",
   "execution_count": 110,
   "id": "d38cd097",
   "metadata": {},
   "outputs": [],
   "source": [
    "attention_masks.type()"
   ]
  },
  {
   "cell_type": "code",
   "execution_count": 111,
   "id": "eb035737",
   "metadata": {},
   "outputs": [],
   "source": [
    "from transformers import BertConfig, BertModel\n",
    "import torch\n",
    "\n",
    "# Replace with the model architecture of your choice\n",
    "config = BertConfig(num_hidden_layers=1, hidden_size=768, num_attention_heads=8, intermediate_size=3072,max_position_embeddings=LONGEST_STRING)\n",
    "encoder = BertModel(config)"
   ]
  },
  {
   "cell_type": "code",
   "execution_count": 112,
   "id": "d26e5d76",
   "metadata": {},
   "outputs": [],
   "source": [
    "output = encoder(input_ids, attention_mask=attention_masks)"
   ]
  },
  {
   "cell_type": "code",
   "execution_count": 113,
   "id": "59ba5fce",
   "metadata": {},
   "outputs": [],
   "source": [
    "embeddings = output.last_hidden_state"
   ]
  },
  {
   "cell_type": "code",
   "execution_count": 114,
   "id": "260d15c7",
   "metadata": {},
   "outputs": [],
   "source": [
    "embeddings"
   ]
  }
 ],
 "metadata": {},
 "nbformat": 4,
 "nbformat_minor": 5
}
